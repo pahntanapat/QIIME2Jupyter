{
 "cells": [
  {
   "cell_type": "markdown",
   "metadata": {},
   "source": [
    "# QIIME2: Terminal Run (Common Final Process)\n",
    "---\n",
    "Terminal (Shell command line code) for QIIME2\n",
    "\n",
    "This pipeline consists of 2 files (2 Processes)\n",
    "1. [Main Process](Terminal_Run_Main_Process.ipynb)\n",
    "2. [Database Process](Terminal_Run_DB_Process.ipynb)\n",
    "3. [Common (Final) Process](Terminal_Run_Common_Process.ipynb)\n",
    "\n",
    "**To reduce running time the [all processes](#) should be run parallelly**\n",
    "\n",
    "Documentation of QIIME2 - https://docs.qiime2.org/2019.7/tutorials/overview\n",
    "Official website - https://qiime2.org\n",
    "\n",
    "## Step of 16S\n",
    "<img src=\"step.png\"/>"
   ]
  },
  {
   "cell_type": "markdown",
   "metadata": {},
   "source": [
    "# 0. Set Variable\n",
    "- The variable should be set in [all processes](#)\n",
    "- To reduce running time the [all processes](#) should be run parallelly"
   ]
  },
  {
   "cell_type": "code",
   "execution_count": null,
   "metadata": {},
   "outputs": [],
   "source": [
    "%env OTU_MANIFEST=\"otu.manifest.txt\"\n",
    "%env IN_DB_PERC=0.99\n",
    "\n",
    "%env CPU_CORE=32\n",
    "%env CPU_THREAD=0\n",
    "%env CPU_JOB=-1"
   ]
  },
  {
   "cell_type": "markdown",
   "metadata": {},
   "source": [
    "# 1 - 5. The Main Process\n",
    "Run them in [Main Process](Terminal_Run_Main_Process.ipynb)\n",
    "\n",
    "---\n",
    "# 6 - 7, 10. The Database Process\n",
    "Run them in [Database Process notebook](Terminal_Run_DB_Process.ipynb)\n",
    "\n",
    "---"
   ]
  },
  {
   "cell_type": "markdown",
   "metadata": {},
   "source": [
    "# 8. Clustering "
   ]
  },
  {
   "cell_type": "code",
   "execution_count": null,
   "metadata": {},
   "outputs": [],
   "source": [
    "%%bash\n",
    "qiime vsearch cluster-features-closed-reference \\\n",
    "--i-table 05.1.table.qza \\\n",
    "--i-sequences 05.2.rep-seqs.qza \\\n",
    "--i-reference-sequences 06.3.ref-seqs.qza \\\n",
    "--p-perc-identity $IN_DB_PERC \\\n",
    "--p-threads $CPU_THREAD \\\n",
    "--verbose \\\n",
    "--o-clustered-table 07.1.table-cr-97.qza \\\n",
    "--o-clustered-sequences 07.2.rep-seqs-cr-97.qza \\\n",
    "--o-unmatched-sequences 07.3.unmatched-cr-97.qza"
   ]
  },
  {
   "cell_type": "markdown",
   "metadata": {},
   "source": [
    "# 9. Chimeric Check\n",
    "- https://docs.qiime2.org/2019.4/tutorials/chimera/"
   ]
  },
  {
   "cell_type": "code",
   "execution_count": null,
   "metadata": {},
   "outputs": [],
   "source": [
    "%%bash\n",
    "qiime vsearch uchime-denovo \\\n",
    "--i-table 07.1.table-cr-97.qza \\\n",
    "--i-sequences 07.2.rep-seqs-cr-97.qza \\\n",
    "--output-dir 08.uchime-dn-out"
   ]
  },
  {
   "cell_type": "code",
   "execution_count": null,
   "metadata": {},
   "outputs": [],
   "source": [
    "%%bash\n",
    "\n",
    "qiime feature-table filter-features \\\n",
    "--i-table 07.1.table-cr-97.qza \\\n",
    "--m-metadata-file 08.uchime-dn-out/nonchimeras.qza \\\n",
    "--o-filtered-table 08.1.table-nonchimeric-wo-borderline.qza"
   ]
  },
  {
   "cell_type": "code",
   "execution_count": null,
   "metadata": {},
   "outputs": [],
   "source": [
    "%%bash\n",
    "\n",
    "qiime feature-table filter-seqs \\\n",
    "--i-data 07.2.rep-seqs-cr-97.qza \\\n",
    "--m-metadata-file 08.uchime-dn-out/nonchimeras.qza \\\n",
    "--o-filtered-data 08.2.rep-seqs-nonchimeric-wo-borderline.qza"
   ]
  },
  {
   "cell_type": "markdown",
   "metadata": {},
   "source": [
    "# 11. Feature Classify"
   ]
  },
  {
   "cell_type": "code",
   "execution_count": null,
   "metadata": {},
   "outputs": [],
   "source": [
    "%%bash\n",
    "qiime feature-classifier classify-sklearn \\\n",
    "--p-n-jobs $CPU_JOB \\\n",
    "--i-classifier 09.classifier.qza \\\n",
    "--i-reads 08.2.rep-seqs-nonchimeric-wo-borderline.qza \\\n",
    "--verbose \\\n",
    "--o-classification 10.2.taxonomy.qza"
   ]
  },
  {
   "cell_type": "markdown",
   "metadata": {},
   "source": [
    "---\n",
    "# Visualization\n",
    "## 8. Clustering\n"
   ]
  },
  {
   "cell_type": "code",
   "execution_count": null,
   "metadata": {},
   "outputs": [],
   "source": [
    "%%bash\n",
    "qiime feature-table summarize \\\n",
    "--i-table 07.1.table-cr-97.qza \\\n",
    "--o-visualization vs07.1.table \\\n",
    "--m-sample-metadata-file $OTU_MANIFEST"
   ]
  },
  {
   "cell_type": "code",
   "execution_count": null,
   "metadata": {},
   "outputs": [],
   "source": [
    "%%bash\n",
    "qiime feature-table tabulate-seqs --i-data 07.2.rep-seqs-cr-97.qza --o-visualization vs07.2.rep-seqs\n",
    "qiime feature-table tabulate-seqs --i-data 07.3.unmatched-cr-97.qza --o-visualization vs07.3.unmatched"
   ]
  },
  {
   "cell_type": "markdown",
   "metadata": {},
   "source": [
    "## 9.1. Uchime filtering"
   ]
  },
  {
   "cell_type": "code",
   "execution_count": null,
   "metadata": {},
   "outputs": [],
   "source": [
    "%%bash\n",
    "qiime metadata tabulate \\\n",
    "--m-input-file 08.uchime-dn-out/stats.qza \\\n",
    "--o-visualization vs08.3.stats_uchime-denovo\n",
    "\n",
    "qiime feature-table summarize \\\n",
    "--i-table 08.1.table-nonchimeric-wo-borderline.qza \\\n",
    "--o-visualization vs08.1.table-nonchimeric-wo-borderline\n",
    "\n",
    "qiime feature-table tabulate-seqs \\\n",
    "--i-data 08.2.rep-seqs-nonchimeric-wo-borderline.qza \\\n",
    "--o-visualization vs08.2.rep-seqs"
   ]
  },
  {
   "cell_type": "markdown",
   "metadata": {},
   "source": [
    "## 9.2. Visualization of alpha diversity "
   ]
  },
  {
   "cell_type": "code",
   "execution_count": null,
   "metadata": {},
   "outputs": [],
   "source": [
    "%%bash\n",
    "qiime diversity alpha-rarefaction \\\n",
    "--i-table 08.1.table-nonchimeric-wo-borderline.qza \\\n",
    "--p-max-depth 32744 \\\n",
    "--p-metrics simpson \\\n",
    "--p-metrics shannon \\\n",
    "--p-metrics observed_otus \\\n",
    "--p-steps 1000 \\\n",
    "--o-visualization vs11.5.alpha-rarefaction.qzv \\\n",
    "--m-sample-metadata-file $OTU_MANIFEST"
   ]
  },
  {
   "cell_type": "markdown",
   "metadata": {},
   "source": [
    "## 11. Predict taxonomy"
   ]
  },
  {
   "cell_type": "code",
   "execution_count": null,
   "metadata": {},
   "outputs": [],
   "source": [
    "%%bash\n",
    "qiime metadata tabulate \\\n",
    "--m-input-file 10.2.taxonomy.qza \\\n",
    "--o-visualization vs10.2.taxonomy.qzv"
   ]
  },
  {
   "cell_type": "markdown",
   "metadata": {},
   "source": [
    "## 12. Create alpha diversity bar plot"
   ]
  },
  {
   "cell_type": "code",
   "execution_count": null,
   "metadata": {},
   "outputs": [],
   "source": [
    "%%bash\n",
    "qiime taxa barplot \\\n",
    "--i-table 08.1.table-nonchimeric-wo-borderline.qza \\\n",
    "--i-taxonomy 10.2.taxonomy.qza \\\n",
    "--o-visualization vs12.2.taxa-bar-plots.qzv \\\n",
    "--m-metadata-file $OTU_MANIFEST"
   ]
  },
  {
   "cell_type": "markdown",
   "metadata": {},
   "source": [
    "## 13. Rarefy normalization"
   ]
  },
  {
   "cell_type": "code",
   "execution_count": null,
   "metadata": {},
   "outputs": [],
   "source": [
    "%%bash\n",
    "qiime feature-table rarefy \\\n",
    "--i-table 08.1.table-nonchimeric-wo-borderline.qza \\\n",
    "--p-sampling-depth 10000 \\\n",
    "--o-rarefied-table 14.rarefied_table.qza"
   ]
  },
  {
   "cell_type": "markdown",
   "metadata": {},
   "source": [
    "## 14. PCoA"
   ]
  },
  {
   "cell_type": "code",
   "execution_count": null,
   "metadata": {},
   "outputs": [],
   "source": [
    "%%bash\n",
    "qiime diversity beta \\\n",
    "--i-table 14.rarefied_table.qza \\\n",
    "--p-metric braycurtis \\\n",
    "--p-n-jobs $CPU_JOB \\\n",
    "--o-distance-matrix 15.distance-matrix_braycurtis.qza\n",
    "\n",
    "qiime diversity pcoa \\\n",
    "--i-distance-matrix 15.distance-matrix_braycurtis.qza \\\n",
    "--o-pcoa 16.1.pcoa_matrix_braycurtis_3D.qzv\n",
    "\n",
    "qiime emperor plot \\\n",
    "--i-pcoa 16.1.pcoa_matrix_braycurtis_3D.qzv.qza \\\n",
    "--o-visualization vs17.pcoa_braycurtis.qzv \\\n",
    "--m-metadata-file $OTU_MANIFEST"
   ]
  },
  {
   "cell_type": "markdown",
   "metadata": {},
   "source": [
    "## 15.  Show Sample-Taxonomy Table"
   ]
  },
  {
   "cell_type": "code",
   "execution_count": null,
   "metadata": {},
   "outputs": [],
   "source": [
    "%%bash\n",
    "qiime taxa barplot \\\n",
    "--i-table 08.1.table-nonchimeric-wo-borderline.qza \\\n",
    "--i-taxonomy 10.2.taxonomy.qza \\\n",
    "--m-metadata-file $OTU_MANIFEST\n",
    "--o-visualization vs15.taxa-bar-plots_otuid.qzv"
   ]
  }
 ],
 "metadata": {
  "kernelspec": {
   "display_name": "Python 3",
   "language": "python",
   "name": "python3"
  },
  "language_info": {
   "codemirror_mode": {
    "name": "ipython",
    "version": 3
   },
   "file_extension": ".py",
   "mimetype": "text/x-python",
   "name": "python",
   "nbconvert_exporter": "python",
   "pygments_lexer": "ipython3",
   "version": "3.7.3"
  }
 },
 "nbformat": 4,
 "nbformat_minor": 2
}
