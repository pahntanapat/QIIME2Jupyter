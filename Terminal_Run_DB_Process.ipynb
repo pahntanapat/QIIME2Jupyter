{
 "cells": [
  {
   "cell_type": "markdown",
   "metadata": {},
   "source": [
    "# QIIME2: Terminal Run (Database Process)\n",
    "\n",
    "<!--\n",
    "**Can be run in both notebook**, in order to achieve shorter process time,\n",
    "- If the Step 10 of [database process](Terminal_Run_DB_Process.ipynb) is not **complete**, **this step should be in [the main process](Terminal_Run_Main_Process.ipynb#8)**.\n",
    "- If another step is run in [the main process](Terminal_Run_Main_Process.ipynb) (e.g. visualization) and the database process has already run successfully, **this step should be run in here**.\n",
    "-->\n",
    "---\n",
    "Terminal (Shell command line code) for QIIME2\n",
    "\n",
    "This pipeline consists of 2 files (2 Processes)\n",
    "1. [Main Process](Terminal_Run_Main_Process.ipynb)\n",
    "2. [Database Process](Terminal_Run_DB_Process.ipynb)\n",
    "3. [Common (Final) Process](Terminal_Run_Common_Process.ipynb)\n",
    "\n",
    "**To reduce running time the [all processes](#) should be run parallelly**\n",
    "\n",
    "Documentation of QIIME2 - https://docs.qiime2.org/2019.7/tutorials/overview\n",
    "Official website - https://qiime2.org\n",
    "\n",
    "## Step of 16S\n",
    "<img src=\"step.png\"/>"
   ]
  },
  {
   "cell_type": "markdown",
   "metadata": {},
   "source": [
    "# 0. Set Variable\n",
    "- The variable should be set in [all processes](#)\n",
    "- To reduce running time the [all processes](#) should be run parallelly"
   ]
  },
  {
   "cell_type": "code",
   "execution_count": null,
   "metadata": {},
   "outputs": [],
   "source": [
    "%env IN_SEQ_DB=\"/mnt/d/qiime2/Silva_132_release/SILVA_132_QIIME_release/rep_set/rep_set_16S_only/99/silva_132_99_16S.fna\"\n",
    "%env IN_TAXONOMY=\"/mnt/d/qiime2/Silva_132_release/SILVA_132_QIIME_release/taxonomy/16S_only/99/consensus_taxonomy_7_levels.txt\"\n",
    "\n",
    "%env PRIMER_FRW=\"CCTACGGGNGGCWGCAG\"\n",
    "%env PRIMER_REV=\"GACTACHVGGGTATCTAATCC\"\n",
    "\n",
    "%env CPU_CORE=32\n",
    "%env CPU_THREAD=0\n",
    "%env CPU_JOB=-1"
   ]
  },
  {
   "cell_type": "markdown",
   "metadata": {},
   "source": [
    "# 1 - 5. The Main Process\n",
    "Run them in [Main Process](Terminal_Run_Main_Process.ipynb)\n",
    "\n",
    "---"
   ]
  },
  {
   "cell_type": "markdown",
   "metadata": {},
   "source": [
    "# 6. Import Database\n",
    "- We use SILVA Database.\n",
    "- Other database are available at https://docs.qiime2.org/2019.4/data-resources\n",
    "- Read more https://docs.qiime2.org/2019.4/tutorials/feature-classifier"
   ]
  },
  {
   "cell_type": "code",
   "execution_count": null,
   "metadata": {},
   "outputs": [],
   "source": [
    "%%bash\n",
    "qiime tools import \\\n",
    "--input-path $IN_SEQ_DB \\\n",
    "--output-path 06.1.raw_97.qza \\\n",
    "--type 'FeatureData[Sequence]'\n",
    "\n",
    "qiime tools import \\\n",
    "--type 'FeatureData[Taxonomy]' \\\n",
    "--input-format HeaderlessTSVTaxonomyFormat \\\n",
    "--input-path $IN_TAXONOMY \\\n",
    "--output-path 06.2.ref-taxonomy.qza"
   ]
  },
  {
   "cell_type": "markdown",
   "metadata": {},
   "source": [
    "# 7. Extract feature"
   ]
  },
  {
   "cell_type": "code",
   "execution_count": null,
   "metadata": {},
   "outputs": [],
   "source": [
    "%%bash\n",
    "qiime feature-classifier extract-reads \\\n",
    "--i-sequences 06.1.raw_97.qza \\\n",
    "--p-f-primer $PRIMER_FRW \\\n",
    "--p-r-primer $PRIMER_REV \\\n",
    "--o-reads 06.3.ref-seqs.qza"
   ]
  },
  {
   "cell_type": "markdown",
   "metadata": {},
   "source": [
    "# 8 - 9 and 11. The Common Process  <a name=\"8\"/>\n",
    "\n",
    "Run them in [Common Final Process](Terminal_Run_Common_Process.ipynb)"
   ]
  },
  {
   "cell_type": "markdown",
   "metadata": {},
   "source": [
    "# 10. Train Naive Bayes\n",
    "**Memory consuming process** (About 16 GB of RAM for SILVA DB)"
   ]
  },
  {
   "cell_type": "code",
   "execution_count": null,
   "metadata": {},
   "outputs": [],
   "source": [
    "%%bash\n",
    "qiime feature-classifier fit-classifier-naive-bayes \\\n",
    "--i-reference-reads 06.3.ref-seqs.qza \\\n",
    "--i-reference-taxonomy 06.2.ref-taxonomy.qza \\\n",
    "--verbose \\\n",
    "--o-classifier 09.classifier.qza"
   ]
  }
 ],
 "metadata": {
  "kernelspec": {
   "display_name": "Python 3",
   "language": "python",
   "name": "python3"
  },
  "language_info": {
   "codemirror_mode": {
    "name": "ipython",
    "version": 3
   },
   "file_extension": ".py",
   "mimetype": "text/x-python",
   "name": "python",
   "nbconvert_exporter": "python",
   "pygments_lexer": "ipython3",
   "version": "3.7.3"
  }
 },
 "nbformat": 4,
 "nbformat_minor": 2
}
