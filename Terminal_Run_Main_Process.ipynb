{
 "cells": [
  {
   "cell_type": "markdown",
   "metadata": {},
   "source": [
    "# QIIME2: Terminal Run (Main Process)\n",
    "---\n",
    "Terminal (Shell command line code) for QIIME2\n",
    "\n",
    "This pipeline consists of 2 files (2 Processes)\n",
    "1. [Main Process](Terminal_Run_Main_Process.ipynb)\n",
    "2. [Database Process](Terminal_Run_DB_Process.ipynb)\n",
    "3. [Common (Final) Process](Terminal_Run_Common_Process.ipynb)\n",
    "\n",
    "**To reduce running time the [all processes](#) should be run parallelly**\n",
    "\n",
    "Documentation of QIIME2 - https://docs.qiime2.org/2019.7/tutorials/overview\n",
    "Official website - https://qiime2.org\n",
    "\n",
    "## Step of 16S\n",
    "<img src=\"step.png\"/>"
   ]
  },
  {
   "cell_type": "markdown",
   "metadata": {},
   "source": [
    "# 0. Set Variable\n",
    "- The variable should be set in [all processes](#)\n",
    "- To reduce running time the [all processes](#) should be run parallelly"
   ]
  },
  {
   "cell_type": "code",
   "execution_count": 5,
   "metadata": {},
   "outputs": [
    {
     "name": "stdout",
     "output_type": "stream",
     "text": [
      "env: IN_MANIFEST=\"in.manifest.txt\"\n",
      "env: IN_FORMAT=\"PairedEndFastqManifestPhred33V2\"\n",
      "env: IN_SEQ_DB=\"/mnt/d/qiime2/Silva_132_release/SILVA_132_QIIME_release/rep_set/rep_set_16S_only/99/silva_132_99_16S.fna\"\n",
      "env: IN_TAXONOMY=\"/mnt/d/qiime2/Silva_132_release/SILVA_132_QIIME_release/taxonomy/16S_only/99/consensus_taxonomy_7_levels.txt\"\n",
      "env: IN_DB_PERC=0.99\n",
      "env: ADAPTER_FRW=\"ACACTGACGACATGGTTCTACA\"\n",
      "env: ADAPTER_REV=\"TACGGTAGCAGAGACTTGGTCT\"\n",
      "env: PRIMER_FRW=\"CCTACGGGNGGCWGCAG\"\n",
      "env: PRIMER_REV=\"GACTACHVGGGTATCTAATCC\"\n",
      "env: CPU_CORE=32\n",
      "env: CPU_THREAD=0\n",
      "env: CPU_JOB=-1\n"
     ]
    }
   ],
   "source": [
    "%env IN_MANIFEST=\"in.manifest.txt\"\n",
    "%env OTU_MANIFEST=\"otu.manifest.txt\"\n",
    "\n",
    "%env IN_FORMAT=\"PairedEndFastqManifestPhred33V2\"\n",
    "\n",
    "%env ADAPTER_FRW=\"ACACTGACGACATGGTTCTACA\"\n",
    "%env ADAPTER_REV=\"TACGGTAGCAGAGACTTGGTCT\"\n",
    "\n",
    "\n",
    "%env CPU_CORE=32\n",
    "%env CPU_THREAD=0\n",
    "%env CPU_JOB=-1"
   ]
  },
  {
   "cell_type": "markdown",
   "metadata": {},
   "source": [
    "# 1. Import Seq and Demultiplex"
   ]
  },
  {
   "cell_type": "code",
   "execution_count": 6,
   "metadata": {},
   "outputs": [
    {
     "name": "stdout",
     "output_type": "stream",
     "text": [
      "\n"
     ]
    }
   ],
   "source": [
    "%%bash\n",
    "qiime tools import \\\n",
    "--type 'SampleData[PairedEndSequencesWithQuality]' \\\n",
    "--input-path  $IN_MANIFEST \\\n",
    "--input-format $IN_FORMAT \\\n",
    "--output-path 00.paired-end-demux.qza"
   ]
  },
  {
   "cell_type": "markdown",
   "metadata": {},
   "source": [
    "# 2. Trim Adapter"
   ]
  },
  {
   "cell_type": "code",
   "execution_count": null,
   "metadata": {},
   "outputs": [],
   "source": [
    "%%bash\n",
    "qiime cutadapt trim-paired \\\n",
    "--i-demultiplexed-sequences 00.paired-end-demux.qza \\\n",
    "--p-cores $CPU_CORE \\\n",
    "--p-adapter-f $ADAPTER_FRW \\\n",
    "--p-adapter-r $ADAPTER_REV \\\n",
    "--o-trimmed-sequences 01.paired-end-remove-adapter.qza"
   ]
  },
  {
   "cell_type": "markdown",
   "metadata": {},
   "source": [
    "# 3. Join Pair (If paired ends)"
   ]
  },
  {
   "cell_type": "code",
   "execution_count": null,
   "metadata": {},
   "outputs": [],
   "source": [
    "%%bash\n",
    "qiime vsearch join-pairs \\\n",
    "--i-demultiplexed-seqs 01.paired-end-remove-adapter.qza \\\n",
    "--p-minmergelen 367 \\\n",
    "--o-joined-sequences 03.demux-joined.qza"
   ]
  },
  {
   "cell_type": "markdown",
   "metadata": {},
   "source": [
    "# 4. Quality filtering"
   ]
  },
  {
   "cell_type": "code",
   "execution_count": null,
   "metadata": {},
   "outputs": [],
   "source": [
    "%%bash\n",
    "qiime quality-filter q-score-joined \\\n",
    "--i-demux 03.demux-joined.qza \\\n",
    "--p-min-quality 20 \\\n",
    "--o-filtered-sequences 04.1.demux-joined-filtered.qza \\\n",
    "--o-filter-stats 04.2.demux-joined-filter-stats.qza"
   ]
  },
  {
   "cell_type": "markdown",
   "metadata": {},
   "source": [
    "# 5. Dereplication"
   ]
  },
  {
   "cell_type": "code",
   "execution_count": null,
   "metadata": {},
   "outputs": [],
   "source": [
    "%%bash\n",
    "qiime vsearch dereplicate-sequences \\\n",
    "--i-sequences 04.1.demux-joined-filtered.qza \\\n",
    "--o-dereplicated-table 05.1.table.qza \\\n",
    "--verbose \\\n",
    "--o-dereplicated-sequences 05.2.rep-seqs.qza"
   ]
  },
  {
   "cell_type": "markdown",
   "metadata": {},
   "source": [
    "# 6 - 7, 10. The Database Process\n",
    "Run them in [Database Process notebook](Terminal_Run_DB_Process.ipynb)"
   ]
  },
  {
   "cell_type": "markdown",
   "metadata": {},
   "source": [
    "# 8 - 9, 11. The Common Process  <a name=\"8\"/>\n",
    "\n",
    "<!--\n",
    "**Can be run in both notebook**, in order to achieve shorter process time,\n",
    "- If the Step 10 of [database process](Terminal_Run_DB_Process.ipynb) is not **complete**, **this step should be run here**.\n",
    "- If another step is run in this main process (e.g. visualization) and the [database process](Terminal_Run_DB_Process.ipynb) has already run successfully,<br/>**this step should be run in [database process](Terminal_Run_DB_Process.ipynb#8)**.\n",
    "-->\n",
    "Run them in [Common Final Process](Terminal_Run_Common_Process.ipynb)"
   ]
  },
  {
   "cell_type": "markdown",
   "metadata": {},
   "source": [
    "---\n",
    "# Visualization\n",
    "\n",
    "## 1. Visualize summary of sequencing\n",
    "## 2. Visualize trimmed of sequencing"
   ]
  },
  {
   "cell_type": "code",
   "execution_count": null,
   "metadata": {},
   "outputs": [],
   "source": [
    "%%bash\n",
    "qiime demux summarize --i-data 00.paired-end-demux.qza --o-visualization vs00.paired-end-demux\n",
    "qiime demux summarize --i-data 01.paired-end-remove-adapter.qza --o-visualization vs01.paired-end-remove-adapter"
   ]
  },
  {
   "cell_type": "markdown",
   "metadata": {},
   "source": [
    "## 3. Visualize the joined pair end"
   ]
  },
  {
   "cell_type": "code",
   "execution_count": null,
   "metadata": {},
   "outputs": [],
   "source": [
    "%%bash\n",
    "qiime demux summarize --i-data 03.demux-joined.qza --o-visualization vs03.demuxjoined"
   ]
  },
  {
   "cell_type": "markdown",
   "metadata": {},
   "source": [
    "## 4. Visualize the joined flitered sequence and stat"
   ]
  },
  {
   "cell_type": "code",
   "execution_count": null,
   "metadata": {},
   "outputs": [],
   "source": [
    "%%bash\n",
    "qiime demux summarize --i-data 04.1.demux-joined-filtered.qza --o-visualization vs04.1.demux-joined-filtered\n",
    "qiime metadata tabulate --m-input-file 04.2.demux-joined-filter-stats.qza --o-visualization vs04.2.demux-joined-filter-stats"
   ]
  },
  {
   "cell_type": "markdown",
   "metadata": {},
   "source": [
    "## 5.1. summarize feature table\n",
    "## 5.2. display tabulate seq"
   ]
  },
  {
   "cell_type": "code",
   "execution_count": null,
   "metadata": {},
   "outputs": [],
   "source": [
    "%%bash\n",
    "qiime feature-table summarize \\\n",
    "--i-table 05.1.table.qza \\\n",
    "--o-visualization vs05.1.table\n",
    "--m-sample-metadata-file $OTU_MANIFEST  ## metadata file is optional parameter\n",
    "\n",
    "\n",
    "qiime feature-table tabulate-seqs \\\n",
    "--i-data 05.2.rep-seqs.qza \\\n",
    "--o-visualization vs05.2.rep-seqs"
   ]
  }
 ],
 "metadata": {
  "kernelspec": {
   "display_name": "Python 3",
   "language": "python",
   "name": "python3"
  },
  "language_info": {
   "codemirror_mode": {
    "name": "ipython",
    "version": 3
   },
   "file_extension": ".py",
   "mimetype": "text/x-python",
   "name": "python",
   "nbconvert_exporter": "python",
   "pygments_lexer": "ipython3",
   "version": "3.7.3"
  }
 },
 "nbformat": 4,
 "nbformat_minor": 2
}
